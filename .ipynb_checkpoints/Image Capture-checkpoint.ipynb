{
 "cells": [
  {
   "cell_type": "code",
   "execution_count": 1,
   "metadata": {},
   "outputs": [],
   "source": [
    "import cv2 \n",
    "import os\n",
    "import time\n",
    "import uuid ## used for unique identifiers"
   ]
  },
  {
   "cell_type": "code",
   "execution_count": 2,
   "metadata": {},
   "outputs": [],
   "source": [
    "IMAGES_PATH = 'E:\\RealTimeObjectDetection\\Tensorflow\\workspace\\images\\collectedimages'"
   ]
  },
  {
   "cell_type": "code",
   "execution_count": 3,
   "metadata": {},
   "outputs": [],
   "source": [
    "labels = ['Hello', 'Thank_you', 'Okay','Small','Thumbs_up', 'Thumbs_down','Rock_on','heart' ,'peace', 'Yes', 'No' ]\n",
    "number_of_images = 30"
   ]
  },
  {
   "cell_type": "code",
   "execution_count": null,
   "metadata": {},
   "outputs": [],
   "source": [
    "for label in labels: # loop through labels\n",
    "    !mkdir {'Tensorflow\\workspace\\images\\collectedimages\\\\'+ label} \n",
    "    capture = cv2.VideoCapture(0) # start up video capture\n",
    "    print('Images being collected for {}'. format(label))  # states label thats being recorded\n",
    "    time.sleep(10) #break between each label to prepare\n",
    "    for imgnum in range (number_of_images):\n",
    "        ret, frame = capture.read()\n",
    "        imgname= os.path.join(IMAGES_PATH, label, label+'.' + '{}.jpg'.format(str(uuid.uuid1()))) # gives each image unique ID\n",
    "        cv2.imwrite(imgname, frame)\n",
    "        cv2.imshow('frame', frame)\n",
    "        time.sleep(5)    #break between each image for a label to change position\n",
    "        \n",
    "        if cv2.waitKey(1) & 0xFF == ord('q'):\n",
    "            break\n",
    "    capture.release()"
   ]
  }
 ],
 "metadata": {
  "kernelspec": {
   "display_name": "Python 3",
   "language": "python",
   "name": "python3"
  },
  "language_info": {
   "codemirror_mode": {
    "name": "ipython",
    "version": 3
   },
   "file_extension": ".py",
   "mimetype": "text/x-python",
   "name": "python",
   "nbconvert_exporter": "python",
   "pygments_lexer": "ipython3",
   "version": "3.7.3"
  }
 },
 "nbformat": 4,
 "nbformat_minor": 2
}
